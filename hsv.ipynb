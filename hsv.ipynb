{
 "metadata": {
  "language_info": {
   "codemirror_mode": {
    "name": "ipython",
    "version": 3
   },
   "file_extension": ".py",
   "mimetype": "text/x-python",
   "name": "python",
   "nbconvert_exporter": "python",
   "pygments_lexer": "ipython3",
   "version": "3.7.2"
  },
  "orig_nbformat": 2,
  "kernelspec": {
   "name": "python3",
   "display_name": "Python 3.7.2 32-bit",
   "metadata": {
    "interpreter": {
     "hash": "f0c6ea3eb7f38e43d17e42c4de6f851be0362923d0375bdf25b6b1af0af6f034"
    }
   }
  }
 },
 "nbformat": 4,
 "nbformat_minor": 2,
 "cells": [
  {
   "cell_type": "code",
   "execution_count": 1,
   "metadata": {},
   "outputs": [
    {
     "output_type": "stream",
     "name": "stdout",
     "text": [
      "4.0.0\n"
     ]
    }
   ],
   "source": [
    "import cv2\n",
    "print(cv2.__version__)"
   ]
  },
  {
   "cell_type": "code",
   "execution_count": 7,
   "metadata": {},
   "outputs": [
    {
     "output_type": "stream",
     "name": "stdout",
     "text": [
      "(1330, 1057, 3)\n[[[ 13  81 155]\n  [ 13  78 161]\n  [ 13  78 160]\n  ...\n  [ 10 135  68]\n  [ 10 139  66]\n  [  7 137  67]]\n\n [[ 13  77 162]\n  [ 13  78 161]\n  [ 13  78 160]\n  ...\n  [ 10 137  67]\n  [ 10 141  65]\n  [  7 137  67]]\n\n [[ 13  73 167]\n  [ 13  76 161]\n  [ 13  77 159]\n  ...\n  [ 10 137  67]\n  [ 10 141  65]\n  [  7 135  68]]\n\n ...\n\n [[106  78  72]\n  [106  80  70]\n  [106  81  69]\n  ...\n  [ 98 163 235]\n  [ 98 162 236]\n  [ 98 159 237]]\n\n [[105  87  70]\n  [105  90  68]\n  [105  93  66]\n  ...\n  [ 98 165 236]\n  [ 98 166 235]\n  [ 98 163 238]]\n\n [[105  91  67]\n  [105  94  65]\n  [105  96  64]\n  ...\n  [ 98 165 236]\n  [ 98 165 236]\n  [ 98 163 239]]]\n"
     ]
    }
   ],
   "source": [
    "# frame = cv2.imread('../images/blue_stack_orange_tags.jpg')\n",
    "frame = cv2.imread('../images/small.jpg')\n",
    "print(frame.shape)\n",
    "frame_HSV = cv2.cvtColor(frame, cv2.COLOR_BGR2HSV)\n",
    "print(frame_HSV.shape)\n",
    "thresh = cv2.inRage(frame_HSV, (0, 100, 0), (30, 200, 255))\n",
    "print(thresh.shape)\n",
    "# cv2.imshow('frame', frame)\n"
   ]
  }
 ]
}